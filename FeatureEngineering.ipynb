{
  "nbformat": 4,
  "nbformat_minor": 0,
  "metadata": {
    "colab": {
      "provenance": []
    },
    "kernelspec": {
      "name": "python3",
      "display_name": "Python 3"
    },
    "language_info": {
      "name": "python"
    }
  },
  "cells": [
    {
      "cell_type": "code",
      "source": [
        "import pandas as pd\n",
        "import numpy as np\n",
        "from sklearn.preprocessing import LabelEncoder, StandardScaler\n",
        "from sklearn.impute import SimpleImputer\n",
        "\n",
        "# Load the dataset\n",
        "df = pd.read_csv('titanic.csv')\n",
        "\n",
        "# Display the first few rows of the dataframe\n",
        "print(df.head())\n",
        "\n",
        "# Display the summary of the dataframe\n",
        "print(df.info())\n",
        "\n",
        "# Feature Engineering and Data Preprocessing\n",
        "\n",
        "# 1. Handling missing values\n",
        "# - Age: Fill missing values with the median age\n",
        "# - Cabin: Fill missing values with 'Unknown'\n",
        "# - Embarked: Fill missing values with the mode\n",
        "\n",
        "imputer_age = SimpleImputer(strategy='median')\n",
        "df['Age'] = imputer_age.fit_transform(df[['Age']])\n",
        "\n",
        "df['Cabin'].fillna('Unknown', inplace=True)\n",
        "\n",
        "imputer_embarked = SimpleImputer(strategy='most_frequent')\n",
        "df['Embarked'] = imputer_embarked.fit_transform(df[['Embarked']]).ravel()\n",
        "\n",
        "# 2. Feature Extraction\n",
        "# - Extract titles from the 'Name' column\n",
        "df['Title'] = df['Name'].str.extract(' ([A-Za-z]+)\\.', expand=False)\n",
        "\n",
        "# - Extract deck information from the 'Cabin' column\n",
        "df['Deck'] = df['Cabin'].str[0]\n",
        "\n",
        "# 3. Encoding categorical variables\n",
        "# - Sex, Embarked, Title, Deck\n",
        "\n",
        "label_encoder = LabelEncoder()\n",
        "df['Sex'] = label_encoder.fit_transform(df['Sex'])\n",
        "df['Embarked'] = label_encoder.fit_transform(df['Embarked'])\n",
        "df['Title'] = label_encoder.fit_transform(df['Title'])\n",
        "df['Deck'] = label_encoder.fit_transform(df['Deck'])\n",
        "\n",
        "# 4. Dropping unnecessary columns\n",
        "# - Name, Ticket, Cabin\n",
        "\n",
        "df.drop(columns=['Name', 'Ticket', 'Cabin'], inplace=True)\n",
        "\n",
        "# 5. Scaling numerical features\n",
        "# - Age, Fare\n",
        "\n",
        "scaler = StandardScaler()\n",
        "df[['Age', 'Fare']] = scaler.fit_transform(df[['Age', 'Fare']])\n",
        "\n",
        "# Display the first few rows of the processed dataframe\n",
        "print(df.head())\n",
        "\n",
        "# Save the processed dataframe to a new CSV file\n",
        "df.to_csv('titanic_processed.csv', index=False)\n",
        "\n",
        "print(\"Feature engineering and data preprocessing completed. Processed data saved to 'titanic_processed.csv'.\")"
      ],
      "metadata": {
        "id": "W20m7lBVJeXi"
      },
      "execution_count": null,
      "outputs": []
    }
  ]
}